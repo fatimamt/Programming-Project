{
 "cells": [
  {
   "cell_type": "code",
   "execution_count": 7,
   "metadata": {},
   "outputs": [
    {
     "name": "stdout",
     "output_type": "stream",
     "text": [
      "Buenas noches\n",
      "50 53 \n"
     ]
    },
    {
     "ename": "ValueError",
     "evalue": "invalid literal for int() with base 10: ''",
     "output_type": "error",
     "traceback": [
      "\u001b[1;31m---------------------------------------------------------------------------\u001b[0m",
      "\u001b[1;31mValueError\u001b[0m                                Traceback (most recent call last)",
      "\u001b[1;32m<ipython-input-7-7a6cdc773a01>\u001b[0m in \u001b[0;36m<module>\u001b[1;34m\u001b[0m\n\u001b[0;32m     70\u001b[0m \u001b[1;31m# grados_2 = sacar_grados2(contenido)\u001b[0m\u001b[1;33m\u001b[0m\u001b[1;33m\u001b[0m\u001b[1;33m\u001b[0m\u001b[0m\n\u001b[0;32m     71\u001b[0m \u001b[1;31m# print(\"los grados son:\",grados_2)\u001b[0m\u001b[1;33m\u001b[0m\u001b[1;33m\u001b[0m\u001b[1;33m\u001b[0m\u001b[0m\n\u001b[1;32m---> 72\u001b[1;33m \u001b[0mdatos_equilibrio\u001b[0m\u001b[1;33m(\u001b[0m\u001b[0mcontenido\u001b[0m\u001b[1;33m)\u001b[0m\u001b[1;33m\u001b[0m\u001b[1;33m\u001b[0m\u001b[0m\n\u001b[0m",
      "\u001b[1;32m<ipython-input-7-7a6cdc773a01>\u001b[0m in \u001b[0;36mdatos_equilibrio\u001b[1;34m(contenido)\u001b[0m\n\u001b[0;32m     56\u001b[0m     \u001b[1;31m#fuerza = int(fuerza)\u001b[0m\u001b[1;33m\u001b[0m\u001b[1;33m\u001b[0m\u001b[1;33m\u001b[0m\u001b[0m\n\u001b[0;32m     57\u001b[0m     \u001b[1;31m#grados_t1 = int(grados_t1)\u001b[0m\u001b[1;33m\u001b[0m\u001b[1;33m\u001b[0m\u001b[1;33m\u001b[0m\u001b[0m\n\u001b[1;32m---> 58\u001b[1;33m     \u001b[0mgrados_T\u001b[0m \u001b[1;33m=\u001b[0m \u001b[0mint\u001b[0m\u001b[1;33m(\u001b[0m\u001b[0mgrados_T\u001b[0m\u001b[1;33m)\u001b[0m\u001b[1;33m\u001b[0m\u001b[1;33m\u001b[0m\u001b[0m\n\u001b[0m\u001b[0;32m     59\u001b[0m \u001b[1;33m\u001b[0m\u001b[0m\n\u001b[0;32m     60\u001b[0m     \u001b[1;31m#return (fuerza, grados_t1, grados_T)\u001b[0m\u001b[1;33m\u001b[0m\u001b[1;33m\u001b[0m\u001b[1;33m\u001b[0m\u001b[0m\n",
      "\u001b[1;31mValueError\u001b[0m: invalid literal for int() with base 10: ''"
     ]
    }
   ],
   "source": [
    "def saludo(contenido):\n",
    "    for i in range(0,len(contenido)):\n",
    "        if (\"dias\" or \"días\") in contenido[i]:\n",
    "            print(\"Buenos días\")\n",
    "        elif \"tardes\" in contenido[i]:\n",
    "            print(\"Buenas tardes\")\n",
    "        elif \"noches\" in contenido[i]:\n",
    "            print(\"Buenas noches\")\n",
    "\n",
    "            \n",
    "def sacar_grados1(contenido):\n",
    "    for i in range(0,len(contenido)):\n",
    "        if  (\"uno\" or \"primer\") in contenido[i]:\n",
    "            grados_list = ([p for p in contenido[i] if p.isdigit()])\n",
    "            grados = \"\"\n",
    "            for p in range(len(grados_list)):\n",
    "                grados = grados + grados_list[p]\n",
    "    grados = int (grados)\n",
    "    return grados\n",
    "                \n",
    "\n",
    "    \n",
    "def sacar_grados2(contenido):\n",
    "    for i in range(0,len(contenido)):\n",
    "        if  (\"segundo\" or \"dos\") in contenido[i]:\n",
    "            grados_list = ([p for p in contenido[i] if p.isdigit()])\n",
    "            grados = \"\"\n",
    "            for p in range(len(grados_list)):\n",
    "                grados = grados + grados_list[p]\n",
    "    grados = int (grados)\n",
    "    return grados\n",
    "      \n",
    "def datos_equilibrio(contenido):\n",
    "    fuerza = \"\"\n",
    "    grados_t1 = \"\"\n",
    "    grados_T = \"\"\n",
    "    \n",
    "    for i in range(0, len(contenido)):\n",
    "        if \"suspendida\" in contenido[i]:\n",
    "            fuerza_list = ([n for n in contenido[i] if n.isdigit()])\n",
    "            for n in range(len(fuerza_list)):\n",
    "                fuerza = fuerza + fuerza_list[n]\n",
    "        \n",
    "        elif \"tensión uno\" in contenido[i]:\n",
    "            grados_t1_list = ([t1 for t1 in contenido[i] if t1.isdigit()])\n",
    "            for t1 in range(len(grados_t1_list)):\n",
    "                grados_t1 = grados_t1 + grados_t1_list[t1]\n",
    "            \n",
    "        elif \"tensión T\" in contenido[i]:\n",
    "            grados_T_list = ([T for T in contenido[i] if T.isdigit()])\n",
    "            for T in range(len(grados_T_list)):\n",
    "                grados_T = grados_T + grados_T_list[T]\n",
    "    \n",
    "    print(fuerza, grados_t1, grados_T)\n",
    "    \n",
    "    #fuerza = int(fuerza)\n",
    "    #grados_t1 = int(grados_t1)\n",
    "    grados_T = int(grados_T)\n",
    "        \n",
    "    #return (fuerza, grados_t1, grados_T)\n",
    "\n",
    "\n",
    "documento = open('prueba.txt')\n",
    "contenido = documento.read()\n",
    "contenido = contenido.split(\"\\n\")\n",
    "contenido = [contenido[i].lower() for i in range(0,len(contenido))]\n",
    "saludo(contenido)\n",
    "# grados_1 = sacar_grados1(contenido)\n",
    "# print(\"los grados son:\",grados_1)\n",
    "# grados_2 = sacar_grados2(contenido)\n",
    "# print(\"los grados son:\",grados_2)\n",
    "datos_equilibrio(contenido)"
   ]
  },
  {
   "cell_type": "code",
   "execution_count": null,
   "metadata": {},
   "outputs": [],
   "source": [
    "import math\n",
    "\n",
    "def primera_condicion(datos):\n",
    "    "
   ]
  },
  {
   "cell_type": "code",
   "execution_count": null,
   "metadata": {},
   "outputs": [],
   "source": []
  }
 ],
 "metadata": {
  "kernelspec": {
   "display_name": "Python 3",
   "language": "python",
   "name": "python3"
  },
  "language_info": {
   "codemirror_mode": {
    "name": "ipython",
    "version": 3
   },
   "file_extension": ".py",
   "mimetype": "text/x-python",
   "name": "python",
   "nbconvert_exporter": "python",
   "pygments_lexer": "ipython3",
   "version": "3.7.1"
  }
 },
 "nbformat": 4,
 "nbformat_minor": 2
}
